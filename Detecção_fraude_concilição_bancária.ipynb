{
  "nbformat": 4,
  "nbformat_minor": 0,
  "metadata": {
    "colab": {
      "provenance": [],
      "authorship_tag": "ABX9TyPOqS5I/Y3hlrye2U9QK5Jv",
      "include_colab_link": true
    },
    "kernelspec": {
      "name": "python3",
      "display_name": "Python 3"
    },
    "language_info": {
      "name": "python"
    }
  },
  "cells": [
    {
      "cell_type": "markdown",
      "metadata": {
        "id": "view-in-github",
        "colab_type": "text"
      },
      "source": [
        "<a href=\"https://colab.research.google.com/github/asantos20/conciliacao-bancaria/blob/main/Detec%C3%A7%C3%A3o_fraude_concili%C3%A7%C3%A3o_banc%C3%A1ria.ipynb\" target=\"_parent\"><img src=\"https://colab.research.google.com/assets/colab-badge.svg\" alt=\"Open In Colab\"/></a>"
      ]
    },
    {
      "cell_type": "code",
      "source": [
        "# Instalando a biblioteca\n",
        "\n",
        "pip install fuzzywuzzy"
      ],
      "metadata": {
        "colab": {
          "base_uri": "https://localhost:8080/"
        },
        "id": "7q5y9XGyiTxi",
        "outputId": "a3575c77-1aa9-49c0-a377-01f6d0f2dd55"
      },
      "execution_count": 2,
      "outputs": [
        {
          "output_type": "stream",
          "name": "stdout",
          "text": [
            "Collecting fuzzywuzzy\n",
            "  Downloading fuzzywuzzy-0.18.0-py2.py3-none-any.whl.metadata (4.9 kB)\n",
            "Downloading fuzzywuzzy-0.18.0-py2.py3-none-any.whl (18 kB)\n",
            "Installing collected packages: fuzzywuzzy\n",
            "Successfully installed fuzzywuzzy-0.18.0\n"
          ]
        }
      ]
    },
    {
      "cell_type": "code",
      "execution_count": 3,
      "metadata": {
        "colab": {
          "base_uri": "https://localhost:8080/"
        },
        "id": "KGQnTnn7gu5W",
        "outputId": "b0c9893f-14c7-4e4c-9669-e2acd2087c21"
      },
      "outputs": [
        {
          "output_type": "stream",
          "name": "stderr",
          "text": [
            "/usr/local/lib/python3.11/dist-packages/fuzzywuzzy/fuzz.py:11: UserWarning: Using slow pure-python SequenceMatcher. Install python-Levenshtein to remove this warning\n",
            "  warnings.warn('Using slow pure-python SequenceMatcher. Install python-Levenshtein to remove this warning')\n"
          ]
        }
      ],
      "source": [
        "# Biblioteca\n",
        "\n",
        "import pandas as pd\n",
        "from fuzzywuzzy import fuzz"
      ]
    },
    {
      "cell_type": "code",
      "source": [
        "# Simulação dos dados extraídos dos PDFs\n",
        "contas_pagar = pd.DataFrame({\n",
        "    'Fornecedor': ['ALFA SERVIÇOS', 'BETA TRANSPORTES', 'GAMA COMERCIAL'],\n",
        "    'Valor': [1200.00, 980.00, 3000.00],\n",
        "    'Data': ['2025-08-01', '2025-08-03', '2025-08-04']\n",
        "})\n",
        "\n",
        "extrato_bancario = pd.DataFrame({\n",
        "    'Descrição': ['ALFA SERVIÇOS', 'BETA TRANSPORTES', 'DELTA SUPRIMENTOS'],\n",
        "    'Valor': [1200.00, 980.00, 600.00],\n",
        "    'Data': ['2025-08-01', '2025-08-03', '2025-08-05']\n",
        "})"
      ],
      "metadata": {
        "id": "Y2aW8LLmhEGj"
      },
      "execution_count": 4,
      "outputs": []
    },
    {
      "cell_type": "code",
      "source": [
        "# Conciliação\n",
        "resultado = []\n",
        "\n",
        "for idx, row in contas_pagar.iterrows():\n",
        "    match = extrato_bancario[\n",
        "        (extrato_bancario['Valor'] == row['Valor']) &\n",
        "        (extrato_bancario['Data'] == row['Data']) &\n",
        "        (extrato_bancario['Descrição'].apply(lambda x: fuzz.partial_ratio(x, row['Fornecedor']) > 90))\n",
        "    ]\n",
        "\n",
        "    if not match.empty:\n",
        "        resultado.append({\n",
        "            'Fornecedor Previsto': row['Fornecedor'],\n",
        "            'Valor Previsto': row['Valor'],\n",
        "            'Data Prevista': row['Data'],\n",
        "            'Fornecedor Extrato': match.iloc[0]['Descrição'],\n",
        "            'Valor Realizado': match.iloc[0]['Valor'],\n",
        "            'Data Realizada': match.iloc[0]['Data'],\n",
        "            'Status': '✔️ Conciliado'\n",
        "        })\n",
        "    else:\n",
        "        resultado.append({\n",
        "            'Fornecedor Previsto': row['Fornecedor'],\n",
        "            'Valor Previsto': row['Valor'],\n",
        "            'Data Prevista': row['Data'],\n",
        "            'Fornecedor Extrato': None,\n",
        "            'Valor Realizado': None,\n",
        "            'Data Realizada': None,\n",
        "            'Status': '❌ Não pago'\n",
        "        })"
      ],
      "metadata": {
        "id": "V5Rhg8r0hNDA"
      },
      "execution_count": 5,
      "outputs": []
    },
    {
      "cell_type": "code",
      "source": [
        "# Verificar pagamentos não previstos\n",
        "for idx, row in extrato_bancario.iterrows():\n",
        "    match = contas_pagar[\n",
        "        (contas_pagar['Valor'] == row['Valor']) &\n",
        "        (contas_pagar['Data'] == row['Data']) &\n",
        "        (contas_pagar['Fornecedor'].apply(lambda x: fuzz.partial_ratio(x, row['Descrição']) > 90))\n",
        "    ]\n",
        "\n",
        "    if match.empty:\n",
        "        resultado.append({\n",
        "            'Fornecedor Previsto': None,\n",
        "            'Valor Previsto': None,\n",
        "            'Data Prevista': None,\n",
        "            'Fornecedor Extrato': row['Descrição'],\n",
        "            'Valor Realizado': row['Valor'],\n",
        "            'Data Realizada': row['Data'],\n",
        "            'Status': '⚠️ Não previsto'\n",
        "        })"
      ],
      "metadata": {
        "id": "viOudFZEhR1a"
      },
      "execution_count": 6,
      "outputs": []
    },
    {
      "cell_type": "code",
      "source": [
        "df_resultado = pd.DataFrame(resultado)\n",
        "print(df_resultado)"
      ],
      "metadata": {
        "colab": {
          "base_uri": "https://localhost:8080/"
        },
        "id": "vevGXRUPhWfl",
        "outputId": "63ff35bb-ca3c-47a2-9ce3-e9e02004e868"
      },
      "execution_count": 7,
      "outputs": [
        {
          "output_type": "stream",
          "name": "stdout",
          "text": [
            "  Fornecedor Previsto  Valor Previsto Data Prevista Fornecedor Extrato  \\\n",
            "0       ALFA SERVIÇOS          1200.0    2025-08-01      ALFA SERVIÇOS   \n",
            "1    BETA TRANSPORTES           980.0    2025-08-03   BETA TRANSPORTES   \n",
            "2      GAMA COMERCIAL          3000.0    2025-08-04               None   \n",
            "3                None             NaN          None  DELTA SUPRIMENTOS   \n",
            "\n",
            "   Valor Realizado Data Realizada           Status  \n",
            "0           1200.0     2025-08-01    ✔️ Conciliado  \n",
            "1            980.0     2025-08-03    ✔️ Conciliado  \n",
            "2              NaN           None       ❌ Não pago  \n",
            "3            600.0     2025-08-05  ⚠️ Não previsto  \n"
          ]
        }
      ]
    },
    {
      "cell_type": "markdown",
      "source": [
        "Código Alternativo"
      ],
      "metadata": {
        "id": "vafTf3AHlBkh"
      }
    },
    {
      "cell_type": "code",
      "source": [
        "import pdfplumber\n",
        "import pandas as pd\n",
        "\n",
        "# Função para extrair tabelas dos PDFs\n",
        "def extrair_tabela_pdf(caminho_pdf):\n",
        "    with pdfplumber.open(caminho_pdf) as pdf:\n",
        "        pagina = pdf.pages[0]\n",
        "        tabela = pagina.extract_table()\n",
        "    df = pd.DataFrame(tabela[1:], columns=tabela[0])\n",
        "    return df\n",
        "\n",
        "# Caminhos dos arquivos simulados\n",
        "caminho_previstas = \"/mnt/data/contas_a_pagar_previstas.pdf\"\n",
        "caminho_extrato = \"/mnt/data/extrato_bancario.pdf\"\n",
        "\n",
        "# Extração das tabelas\n",
        "df_previstas = extrair_tabela_pdf(caminho_previstas)\n",
        "df_extrato = extrair_tabela_pdf(caminho_extrato)\n",
        "\n",
        "# Conversão de valores e datas\n",
        "df_previstas['Valor (R$)'] = df_previstas['Valor (R$)'].str.replace('.', '').str.replace(',', '.').astype(float)\n",
        "df_extrato['Valor (R$)'] = df_extrato['Valor (R$)'].str.replace('.', '').str.replace(',', '.').astype(float)\n",
        "\n",
        "df_previstas['Data'] = pd.to_datetime(df_previstas['Data'], format='%d/%m/%Y')\n",
        "df_extrato['Data'] = pd.to_datetime(df_extrato['Data'], format='%d/%m/%Y')\n",
        "\n",
        "# Renomear colunas para facilitar o cruzamento\n",
        "df_previstas.rename(columns={'Fornecedor': 'Fornecedor Previsto', 'Valor (R$)': 'Valor Previsto', 'Data': 'Data Prevista'}, inplace=True)\n",
        "df_extrato.rename(columns={'Descrição': 'Fornecedor Extrato', 'Valor (R$)': 'Valor Realizado', 'Data': 'Data Realizada'}, inplace=True)\n",
        "\n",
        "# Conciliar os dados\n",
        "resultado = []\n",
        "\n",
        "for _, row in df_previstas.iterrows():\n",
        "    match = df_extrato[\n",
        "        (df_extrato['Valor Realizado'] == row['Valor Previsto']) &\n",
        "        (df_extrato['Data Realizada'] == row['Data Prevista']) &\n",
        "        (df_extrato['Fornecedor Extrato'].str.upper() == row['Fornecedor Previsto'].upper())\n",
        "    ]\n",
        "    if not match.empty:\n",
        "        resultado.append({\n",
        "            **row,\n",
        "            'Fornecedor Extrato': match.iloc[0]['Fornecedor Extrato'],\n",
        "            'Valor Realizado': match.iloc[0]['Valor Realizado'],\n",
        "            'Data Realizada': match.iloc[0]['Data Realizada'],\n",
        "            'Status': '✔️ Conciliado'\n",
        "        })\n",
        "    else:\n",
        "        resultado.append({\n",
        "            **row,\n",
        "            'Fornecedor Extrato': None,\n",
        "            'Valor Realizado': None,\n",
        "            'Data Realizada': None,\n",
        "            'Status': '❌ Não pago'\n",
        "        })\n",
        "\n",
        "for _, row in df_extrato.iterrows():\n",
        "    match = df_previstas[\n",
        "        (df_previstas['Valor Previsto'] == row['Valor Realizado']) &\n",
        "        (df_previstas['Data Prevista'] == row['Data Realizada']) &\n",
        "        (df_previstas['Fornecedor Previsto'].str.upper() == row['Fornecedor Extrato'].upper())\n",
        "    ]\n",
        "    if match.empty:\n",
        "        resultado.append({\n",
        "            'Fornecedor Previsto': None,\n",
        "            'Valor Previsto': None,\n",
        "            'Data Prevista': None,\n",
        "            'Fornecedor Extrato': row['Fornecedor Extrato'],\n",
        "            'Valor Realizado': row['Valor Realizado'],\n",
        "            'Data Realizada': row['Data Realizada'],\n",
        "            'Status': '⚠️ Não previsto'\n",
        "        })\n",
        "\n",
        "df_resultado = pd.DataFrame(resultado)\n",
        "\n",
        "import caas_jupyter_tools as tools; tools.display_dataframe_to_user(name=\"Resultado da Conciliação\", dataframe=df_resultado)\n"
      ],
      "metadata": {
        "id": "QBwzzHiOk7ou"
      },
      "execution_count": null,
      "outputs": []
    }
  ]
}